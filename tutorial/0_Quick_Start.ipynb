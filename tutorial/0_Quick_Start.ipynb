{
 "cells": [
  {
   "cell_type": "markdown",
   "id": "271a46ea",
   "metadata": {},
   "source": [
    "# 安装FLGo"
   ]
  },
  {
   "cell_type": "markdown",
   "id": "179eb38c",
   "metadata": {},
   "source": [
    "在使用FLGo之前，需要自行安装以下基本的库：numpy，pytorch，torchvision，scipy，numpy，matplotlib，prettytable。这些库对版本没有特殊要，网上配置教程较多，这里不再赘述。\n",
    "\n",
    "在FLGo中还会用到一些额外的第三方库，这些库主要针对特定功能或算法的实现，比如cvxopt，pynvml等，可以等用到的时候再进行安装。由于近期刚刚把原来的github仓库封装成包，暂时挂在了test.pypi上，后续完善基础的一些文档和说明后将挂到pypi上。在命令行输入下列命令即可安装FLGo"
   ]
  },
  {
   "cell_type": "code",
   "execution_count": 1,
   "id": "06b4be05",
   "metadata": {},
   "outputs": [
    {
     "name": "stdout",
     "output_type": "stream",
     "text": [
      "Looking in indexes: https://test.pypi.org/simple/\n",
      "Collecting test-flgo-wwwzz\n",
      "  Downloading https://test-files.pythonhosted.org/packages/68/09/d36cdda0dcf2e8905a3e8582be9a31705ddc7df615a5304a7152dfa39bd3/test_flgo_wwwzz-0.0.12-py3-none-any.whl (175 kB)\n",
      "\u001B[2K     \u001B[90m━━━━━━━━━━━━━━━━━━━━━━━━━━━━━━━━━━━━━\u001B[0m \u001B[32m175.7/175.7 kB\u001B[0m \u001B[31m785.8 kB/s\u001B[0m eta \u001B[36m0:00:00\u001B[0m00:01\u001B[0m00:01\u001B[0m\n",
      "\u001B[?25hInstalling collected packages: test-flgo-wwwzz\n",
      "Successfully installed test-flgo-wwwzz-0.0.12\n"
     ]
    }
   ],
   "source": [
    "!pip install -i https://test.pypi.org/simple/ test-flgo-wwwzz"
   ]
  },
  {
   "cell_type": "markdown",
   "id": "73bce628",
   "metadata": {},
   "source": [
    "# 运行FLGo "
   ]
  },
  {
   "cell_type": "code",
   "execution_count": 2,
   "id": "79827eca",
   "metadata": {},
   "outputs": [],
   "source": [
    "import flgo\n",
    "import flgo.benchmark.mnist_classification as mnist\n",
    "import flgo.algorithm.fedavg as fedavg\n",
    "import os"
   ]
  },
  {
   "cell_type": "markdown",
   "id": "cb6d1d00",
   "metadata": {},
   "source": [
    "### 生成联邦任务 \\ Generate Federated Task"
   ]
  },
  {
   "cell_type": "markdown",
   "id": "70eeb07a",
   "metadata": {},
   "source": [
    "生成mnist的IID划分，人数为100人，代码如下："
   ]
  },
  {
   "cell_type": "code",
   "execution_count": 13,
   "id": "63489a44",
   "metadata": {},
   "outputs": [],
   "source": [
    "task = './test_mnist'\n",
    "config = {'benchmark':{'name':'flgo.benchmark.mnist_classification'},'partitioner':{'name': 'IIDPartitioner','para':{'num_clients':100}}}\n",
    "if not os.path.exists(task): flgo.gen_task(config, task_path = task)"
   ]
  },
  {
   "cell_type": "markdown",
   "id": "d239f884",
   "metadata": {},
   "source": [
    "### 开始使用fedavg联邦训练 \\ Start training with FedAvg"
   ]
  },
  {
   "cell_type": "markdown",
   "id": "4791eb06",
   "metadata": {},
   "source": [
    "使用fedavg训练，参数为5轮，本地训练epoch为1，仅使用0卡训练"
   ]
  },
  {
   "cell_type": "code",
   "execution_count": 14,
   "id": "dbb2f304",
   "metadata": {},
   "outputs": [
    {
     "name": "stderr",
     "output_type": "stream",
     "text": [
      "2023-03-14 15:02:31,754 fflow.py init [line:347] INFO Initializing devices: cuda:0 will be used for this running.\n",
      "2023-03-14 15:02:31,826 fflow.py init [line:389] INFO Use `<class 'flgo.simulator.default_simulator.Simulator'>` as the system simulator\n",
      "2023-03-14 15:02:31,827 fflow.py init [line:397] INFO Ready to start.\n",
      "2023-03-14 15:02:31,830 fedbase.py run [line:104] INFO --------------Initial Evaluation--------------\n",
      "2023-03-14 15:02:31,830 simple_logger.py log_once [line:13] INFO Current_time:0\n",
      "2023-03-14 15:02:34,907 simple_logger.py log_once [line:27] INFO test_accuracy                 0.0845\n",
      "2023-03-14 15:02:34,908 simple_logger.py log_once [line:27] INFO test_loss                     2.3038\n",
      "2023-03-14 15:02:34,909 simple_logger.py log_once [line:27] INFO valid_accuracy                0.0772\n",
      "2023-03-14 15:02:34,909 simple_logger.py log_once [line:27] INFO mean_valid_accuracy           0.0772\n",
      "2023-03-14 15:02:34,909 simple_logger.py log_once [line:27] INFO std_valid_accuracy            0.0365\n",
      "2023-03-14 15:02:34,910 simple_logger.py log_once [line:27] INFO valid_loss                    2.3038\n",
      "2023-03-14 15:02:34,910 simple_logger.py log_once [line:27] INFO mean_valid_loss               2.3038\n",
      "2023-03-14 15:02:34,910 simple_logger.py log_once [line:27] INFO std_valid_loss                0.0076\n",
      "2023-03-14 15:02:34,911 fedbase.py run [line:107] INFO Eval Time Cost:               3.0803s\n",
      "2023-03-14 15:02:37,160 fedbase.py run [line:113] INFO Iterate Time Cost:            2.2485s\n",
      "2023-03-14 15:02:37,160 fedbase.py run [line:116] INFO --------------Round 1--------------\n",
      "2023-03-14 15:02:37,161 simple_logger.py log_once [line:13] INFO Current_time:1\n",
      "2023-03-14 15:02:40,151 simple_logger.py log_once [line:27] INFO test_accuracy                 0.6472\n",
      "2023-03-14 15:02:40,152 simple_logger.py log_once [line:27] INFO test_loss                     1.5874\n",
      "2023-03-14 15:02:40,152 simple_logger.py log_once [line:27] INFO valid_accuracy                0.6335\n",
      "2023-03-14 15:02:40,152 simple_logger.py log_once [line:27] INFO mean_valid_accuracy           0.6335\n",
      "2023-03-14 15:02:40,153 simple_logger.py log_once [line:27] INFO std_valid_accuracy            0.0611\n",
      "2023-03-14 15:02:40,153 simple_logger.py log_once [line:27] INFO valid_loss                    1.6089\n",
      "2023-03-14 15:02:40,153 simple_logger.py log_once [line:27] INFO mean_valid_loss               1.6089\n",
      "2023-03-14 15:02:40,154 simple_logger.py log_once [line:27] INFO std_valid_loss                0.0486\n",
      "2023-03-14 15:02:40,154 fedbase.py run [line:121] INFO Eval Time Cost:               2.9933s\n",
      "2023-03-14 15:02:43,001 fedbase.py run [line:113] INFO Iterate Time Cost:            2.8463s\n",
      "2023-03-14 15:02:43,002 fedbase.py run [line:116] INFO --------------Round 2--------------\n",
      "2023-03-14 15:02:43,002 simple_logger.py log_once [line:13] INFO Current_time:2\n",
      "2023-03-14 15:02:46,175 simple_logger.py log_once [line:27] INFO test_accuracy                 0.7542\n",
      "2023-03-14 15:02:46,176 simple_logger.py log_once [line:27] INFO test_loss                     1.3094\n",
      "2023-03-14 15:02:46,176 simple_logger.py log_once [line:27] INFO valid_accuracy                0.7285\n",
      "2023-03-14 15:02:46,177 simple_logger.py log_once [line:27] INFO mean_valid_accuracy           0.7285\n",
      "2023-03-14 15:02:46,177 simple_logger.py log_once [line:27] INFO std_valid_accuracy            0.0532\n",
      "2023-03-14 15:02:46,177 simple_logger.py log_once [line:27] INFO valid_loss                    1.3409\n",
      "2023-03-14 15:02:46,177 simple_logger.py log_once [line:27] INFO mean_valid_loss               1.3409\n",
      "2023-03-14 15:02:46,178 simple_logger.py log_once [line:27] INFO std_valid_loss                0.0683\n",
      "2023-03-14 15:02:46,178 fedbase.py run [line:121] INFO Eval Time Cost:               3.1754s\n",
      "2023-03-14 15:02:49,143 fedbase.py run [line:113] INFO Iterate Time Cost:            2.9637s\n",
      "2023-03-14 15:02:49,144 fedbase.py run [line:116] INFO --------------Round 3--------------\n",
      "2023-03-14 15:02:49,144 simple_logger.py log_once [line:13] INFO Current_time:3\n",
      "2023-03-14 15:02:52,770 simple_logger.py log_once [line:27] INFO test_accuracy                 0.8084\n",
      "2023-03-14 15:02:52,771 simple_logger.py log_once [line:27] INFO test_loss                     0.6157\n",
      "2023-03-14 15:02:52,771 simple_logger.py log_once [line:27] INFO valid_accuracy                0.7927\n",
      "2023-03-14 15:02:52,772 simple_logger.py log_once [line:27] INFO mean_valid_accuracy           0.7927\n",
      "2023-03-14 15:02:52,772 simple_logger.py log_once [line:27] INFO std_valid_accuracy            0.0529\n",
      "2023-03-14 15:02:52,772 simple_logger.py log_once [line:27] INFO valid_loss                    0.6424\n",
      "2023-03-14 15:02:52,772 simple_logger.py log_once [line:27] INFO mean_valid_loss               0.6424\n",
      "2023-03-14 15:02:52,773 simple_logger.py log_once [line:27] INFO std_valid_loss                0.0948\n",
      "2023-03-14 15:02:52,773 fedbase.py run [line:121] INFO Eval Time Cost:               3.6286s\n",
      "2023-03-14 15:02:56,054 fedbase.py run [line:113] INFO Iterate Time Cost:            3.2793s\n",
      "2023-03-14 15:02:56,054 fedbase.py run [line:116] INFO --------------Round 4--------------\n",
      "2023-03-14 15:02:56,055 simple_logger.py log_once [line:13] INFO Current_time:4\n",
      "2023-03-14 15:02:59,691 simple_logger.py log_once [line:27] INFO test_accuracy                 0.8505\n",
      "2023-03-14 15:02:59,692 simple_logger.py log_once [line:27] INFO test_loss                     0.4929\n",
      "2023-03-14 15:02:59,693 simple_logger.py log_once [line:27] INFO valid_accuracy                0.8355\n",
      "2023-03-14 15:02:59,693 simple_logger.py log_once [line:27] INFO mean_valid_accuracy           0.8355\n",
      "2023-03-14 15:02:59,693 simple_logger.py log_once [line:27] INFO std_valid_accuracy            0.0473\n",
      "2023-03-14 15:02:59,694 simple_logger.py log_once [line:27] INFO valid_loss                    0.5210\n",
      "2023-03-14 15:02:59,694 simple_logger.py log_once [line:27] INFO mean_valid_loss               0.5210\n",
      "2023-03-14 15:02:59,694 simple_logger.py log_once [line:27] INFO std_valid_loss                0.0946\n",
      "2023-03-14 15:02:59,695 fedbase.py run [line:121] INFO Eval Time Cost:               3.6400s\n",
      "2023-03-14 15:03:02,628 fedbase.py run [line:113] INFO Iterate Time Cost:            2.9312s\n",
      "2023-03-14 15:03:02,629 fedbase.py run [line:116] INFO --------------Round 5--------------\n",
      "2023-03-14 15:03:02,629 simple_logger.py log_once [line:13] INFO Current_time:5\n",
      "2023-03-14 15:03:05,692 simple_logger.py log_once [line:27] INFO test_accuracy                 0.9178\n",
      "2023-03-14 15:03:05,693 simple_logger.py log_once [line:27] INFO test_loss                     0.3038\n",
      "2023-03-14 15:03:05,693 simple_logger.py log_once [line:27] INFO valid_accuracy                0.9050\n",
      "2023-03-14 15:03:05,693 simple_logger.py log_once [line:27] INFO mean_valid_accuracy           0.9050\n",
      "2023-03-14 15:03:05,694 simple_logger.py log_once [line:27] INFO std_valid_accuracy            0.0409\n",
      "2023-03-14 15:03:05,694 simple_logger.py log_once [line:27] INFO valid_loss                    0.3288\n",
      "2023-03-14 15:03:05,694 simple_logger.py log_once [line:27] INFO mean_valid_loss               0.3288\n",
      "2023-03-14 15:03:05,695 simple_logger.py log_once [line:27] INFO std_valid_loss                0.0890\n",
      "2023-03-14 15:03:05,695 fedbase.py run [line:121] INFO Eval Time Cost:               3.0657s\n",
      "2023-03-14 15:03:05,696 fedbase.py run [line:129] INFO =================End==================\n",
      "2023-03-14 15:03:05,696 fedbase.py run [line:130] INFO Total Time Cost:              33.8660s\n"
     ]
    }
   ],
   "source": [
    "fedavg_runner = flgo.init(task=task, algorithm=fedavg, option={'num_rounds':5, 'num_epochs':1, 'gpu':0})\n",
    "fedavg_runner.run()"
   ]
  },
  {
   "cell_type": "markdown",
   "id": "cd2a71d1",
   "metadata": {},
   "source": [
    "###  训练结果展示 \\ Training Result"
   ]
  },
  {
   "cell_type": "markdown",
   "id": "9dc897b2",
   "metadata": {},
   "source": [
    "绘制训练过程中的验证集损失和验证集精度"
   ]
  },
  {
   "cell_type": "code",
   "execution_count": 15,
   "id": "2e050717",
   "metadata": {},
   "outputs": [
    {
     "data": {
      "image/png": "[encoded data removed]",
      "text/plain": [
       "<Figure size 432x288 with 1 Axes>"
      ]
     },
     "metadata": {
      "needs_background": "light"
     },
     "output_type": "display_data"
    },
    {
     "data": {
      "image/png": "[encoded data removed]",
      "text/plain": [
       "<Figure size 432x288 with 1 Axes>"
      ]
     },
     "metadata": {
      "needs_background": "light"
     },
     "output_type": "display_data"
    }
   ],
   "source": [
    "import flgo.experiment.analyzer as al\n",
    "analysis_plan = {\n",
    "    'Selector':{\n",
    "        'task': task,\n",
    "        'header':['fedavg']\n",
    "    },\n",
    "    'Painter':{\n",
    "        'Curve':[\n",
    "            {'args':{'x': 'communication_round', 'y':'valid_loss'}, 'fig_option':{'title':'valid loss on MNIST'}},\n",
    "            {'args':{'x': 'communication_round', 'y':'valid_accuracy'},  'fig_option':{'title':'valid accuracy on MNIST'}},\n",
    "        ]\n",
    "    }\n",
    "}\n",
    "al.show(analysis_plan)"
   ]
  }
 ],
 "metadata": {
  "kernelspec": {
   "display_name": "Python 3 (ipykernel)",
   "language": "python",
   "name": "python3"
  },
  "language_info": {
   "codemirror_mode": {
    "name": "ipython",
    "version": 3
   },
   "file_extension": ".py",
   "mimetype": "text/x-python",
   "name": "python",
   "nbconvert_exporter": "python",
   "pygments_lexer": "ipython3",
   "version": "3.9.12"
  }
 },
 "nbformat": 4,
 "nbformat_minor": 5
}