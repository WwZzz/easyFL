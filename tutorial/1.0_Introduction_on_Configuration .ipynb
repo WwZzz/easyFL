{
 "cells": [
  {
   "cell_type": "markdown",
   "id": "79450e0a",
   "metadata": {},
   "source": [
    "# flgo.init函数介绍"
   ]
  },
  {
   "cell_type": "markdown",
   "id": "03f4a61e",
   "metadata": {},
   "source": [
    "这一节介绍的是如何配置FLGo运行时的参数。首先介绍flgo中创建runner的函数：flgo.init，该函数描述如下："
   ]
  },
  {
   "cell_type": "code",
   "execution_count": null,
   "id": "4b8c67f2",
   "metadata": {},
   "outputs": [],
   "source": [
    "def init(task: str, algorithm, option = {}, model=None, Logger: flgo.experiment.logger.BasicLogger = flgo.experiment.logger.simple_logger.SimpleLogger, Simulator: BasicSimulator=flgo.simulator.DefaultSimulator, scene='horizontal'):\n",
    "    r\"\"\"\n",
    "    Initialize a runner in FLGo, which is to optimize a model on a specific task (i.e. IID-mnist-of-100-clients) by the selected federated algorithm.\n",
    "    :param\n",
    "        task (str): the dictionary of the federated task\n",
    "        algorithm (module || class): the algorithm will be used to optimize the model in federated manner, which must contain pre-defined attributions (e.g. algorithm.Server and algorithm.Client for horizontal federated learning)\n",
    "        option (dict || str): the configurations of training, environment, algorithm, logger and simulator\n",
    "        model (module || class): the model module that contains two methods: model.init_local_module(object) and model.init_global_module(object)\n",
    "        Logger (class): the class of the logger inherited from flgo.experiment.logger.BasicLogger\n",
    "        Simulator (class): the class of the simulator inherited from flgo.simulator.BasicSimulator\n",
    "        scene (str): 'horizontal' or 'vertical' in current version of FLGo\n",
    "    :return\n",
    "        runner: the object instance that has the method runner.run()\n",
    "    \"\"\"\n",
    "    ..."
   ]
  },
  {
   "cell_type": "markdown",
   "id": "5e718abc",
   "metadata": {},
   "source": [
    "flgo.init函数返回一个具有run方法的任意对象，通过调用run方法开启迭代训练。\n",
    "\n",
    "为了生成该对象，init应当接收的输入包括：\n",
    "* **task**：联邦任务路径，由flgo.gen_task生成的任务路径；\n",
    "* **algorithm**：联邦算法，要求algorithm的类型是class或module，横向联邦中需要其具备algorithm.Server和algorithm.Client两个可访问的属性；\n",
    "* **option（可选）**：运行选项，类型为字典，包含运行时的各类参数；\n",
    "* **model（可选）**：待优化的模型模块，要求model的类型为类或module，横向联邦中需要其具备model.init_global_module和model.init_local_module两个可访问的方法，为实体初始化module；\n",
    "* **Logger（可选）**：日志记录器类，要求父类为flgo.experiment.logger.BasicLogger\n",
    "* **Simulator（可选）**：系统模拟器类，要求父类为flgo.simulator.BasicSimulator\n",
    "* **scene（可选）**：类型为字符串，联邦场景（e.g. 横向 or 纵向）\n",
    "\n",
    "接下来几节将依次介绍如何选取适当的参数，来达到自己的实验目的。"
   ]
  }
 ],
 "metadata": {
  "kernelspec": {
   "display_name": "Python 3 (ipykernel)",
   "language": "python",
   "name": "python3"
  },
  "language_info": {
   "codemirror_mode": {
    "name": "ipython",
    "version": 3
   },
   "file_extension": ".py",
   "mimetype": "text/x-python",
   "name": "python",
   "nbconvert_exporter": "python",
   "pygments_lexer": "ipython3",
   "version": "3.9.12"
  }
 },
 "nbformat": 4,
 "nbformat_minor": 5
}